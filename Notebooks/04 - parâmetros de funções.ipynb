{
 "cells": [
  {
   "cell_type": "markdown",
   "metadata": {},
   "source": [
    "# Parâmetros de funções\n",
    "\n",
    "Quando estudamos funções, aprendemos que elas podem receber dados (parâmetros) e podem fornecer uma resposta (retorno). Porém, o número de parâmetros era fixo para cada função: um dado para cada parâmetro que declaramos na definição da função. Da mesma forma, a função poderia retornar exatamente um resultado.\n",
    "\n",
    "Em alguns casos, mais flexibilidade seria útil. Utilizando tuplas e dicionários conseguimos essa flexibilidade.\n",
    "\n",
    "## Funções com retorno múltiplo\n",
    "Vejamos um caso simples: uma função que retorna os valores máximo e mínimo de uma coleção.\n",
    "Você pode retornar os valores separados por vírgula. \n",
    "Vamos imprimir o resultado e verificar o que acontece."
   ]
  },
  {
   "cell_type": "code",
   "execution_count": 1,
   "metadata": {},
   "outputs": [
    {
     "name": "stdout",
     "output_type": "stream",
     "text": [
      "(9, 1)\n",
      "<class 'tuple'>\n"
     ]
    }
   ],
   "source": [
    "def max_min(colecao):\n",
    "\tmaior = max(colecao)\n",
    "\tmenor = min(colecao)\n",
    "\treturn maior, menor\n",
    "\n",
    "numeros = [3, 1, 4, 1, 5, 9, 2]\n",
    "\n",
    "resposta = max_min(numeros)\n",
    "print(resposta)\n",
    "print(type(resposta)) # mostra o tipo da variável resposta"
   ]
  },
  {
   "cell_type": "markdown",
   "metadata": {},
   "source": [
    "Surpresa! Ele tratou o retorno como uma tupla! Quando utilizamos valores separados por vírgula em Python, os valores são agrupados em uma tupla, mesmo que não estejamos utilizando parênteses. Essa informação é relevante porque podemos separar a tupla em varias variáveis usando a mesma sintaxe:"
   ]
  },
  {
   "cell_type": "code",
   "execution_count": 2,
   "metadata": {},
   "outputs": [
    {
     "name": "stdout",
     "output_type": "stream",
     "text": [
      "9\n",
      "1\n"
     ]
    }
   ],
   "source": [
    "def max_min(colecao):\n",
    "\tmaior = max(colecao)\n",
    "\tmenor = min(colecao)\n",
    "\treturn maior, menor\n",
    "\n",
    "numeros = [3, 1, 4, 1, 5, 9, 2]\n",
    "\n",
    "maior_num, menor_num = max_min(numeros)\n",
    "print(maior_num)\n",
    "print(menor_num)"
   ]
  },
  {
   "cell_type": "markdown",
   "metadata": {},
   "source": [
    "No exemplo acima é mais perceptível a sensação de que a função retornou 2 valores e o programa recebeu esses 2 valores individualmente. Por dentro, tupla. Por fora, retorno múltiplo."
   ]
  },
  {
   "cell_type": "markdown",
   "metadata": {},
   "source": [
    "## Parâmetros com valores padrão\n",
    "\n",
    "Uma primeira forma de trabalhar com a ideia de parâmetros opcionais é atribuir valores padrão para nossos parâmetros. Quando fazemos isso, quando a função for chamada, o parâmetro pode **ou** não ser passado. Caso ele não seja passado, é adotado o valor padrão.\n",
    "\n",
    "Devemos primeiro colocar os parâmetros \"comuns\" (conhecidos como _argumentos posicionais_) para depois colocar os argumentos com valor padrão. Imagine, por exemplo, uma função que padroniza _strings_ jogando todo seu conteúdo para upper ou lower. Podemos implementá-la da seguinte maneira:"
   ]
  },
  {
   "cell_type": "code",
   "execution_count": 3,
   "metadata": {},
   "outputs": [
    {
     "name": "stdout",
     "output_type": "stream",
     "text": [
      "sem passar o segundo argumento\n",
      "passando segundo argumento true\n",
      "PASSANDO SEGUNDO ARGUMENTO FALSE\n"
     ]
    }
   ],
   "source": [
    "def padroniza_string(texto, lower=True):\n",
    "    if lower:\n",
    "        return texto.lower()\n",
    "    else:\n",
    "        return texto.upper()\n",
    "\n",
    "print(padroniza_string('Sem passar o SEGUNDO argumento'))\n",
    "print(padroniza_string('Passando SEGUNDO argumento True', lower=True))\n",
    "print(padroniza_string('Passando SEGUNDO argumento False', lower=False))"
   ]
  },
  {
   "cell_type": "markdown",
   "metadata": {},
   "source": [
    "## Funções com quantidade variável de parâmetros\n",
    "Talvez você já tenha notado que o _print_ é uma função. Se não notou, esse é um bom momento para pensar a respeito. Nós sempre usamos com parênteses, nós passamos informações dentro dos parênteses (os dados a serem impressos) e ele faz um monte de coisa automaticamente: converte todos os dados passados para _string_, contatena todas as _strings_ com um espaço entre elas e as escreve na tela.\n",
    "\n",
    "Algo que o _print_ tem que as nossas funções não tinham é a capacidade de receber uma quantidade variável de parâmetros. Nós podemos passar 0 dados (e, neste caso, ele apenas pulará uma linha), 1 dado, 2 dados, 3 dados... Quantos dados quisermos, separados por vírgula, e ele funcionará para todos esses casos. Se temos que declarar todos os parâmetros, como fazer para que múltiplos dados possam ser passados?\n",
    "\n",
    "### Agrupando parâmetros\n",
    "A solução é utilizar o operador **\\*** - que, neste caso, não será uma multiplicação.  Ao colocarmos o **\\*** ao lado do nome de um parâmetro na definição da função, estamos dizendo que aquele argumento será uma coleção. Mais especificamente, uma tupla. Porém, o usuário não irá passar uma tupla. Ele irá passar quantos argumentos ele quiser, e o Python automaticamente criará uma tupla com eles. \n",
    "\n",
    "O exemplo abaixo cria uma função de somatório que pode receber uma quantidade arbitrária de números."
   ]
  },
  {
   "cell_type": "code",
   "execution_count": 7,
   "metadata": {},
   "outputs": [
    {
     "name": "stdout",
     "output_type": "stream",
     "text": [
      "9 30 55\n"
     ]
    }
   ],
   "source": [
    "def somatorio(*numeros):\n",
    "\t# remova o símbolo de comentário das linhas abaixo para entender melhor o parâmetro\n",
    "\t# print (numeros)\n",
    "\t# print(type(numeros))\n",
    "\tsoma = 0\n",
    "\tfor n in numeros:\n",
    "\t\tsoma = soma + n\n",
    "\treturn soma\n",
    "\n",
    "s1 = somatorio(5, 3, 1)\n",
    "s2 = somatorio(2, 4, 6, 8, 10)\n",
    "s3 = somatorio(1, 2, 3, 4, 5, 6, 7, 8, 9, 10)\n",
    "print(s1, s2, s3)"
   ]
  },
  {
   "cell_type": "markdown",
   "metadata": {},
   "source": [
    "### Expandindo uma coleção\n",
    "O exemplo acima funciona muito bem quando o usuário da função possui vários dados avulsos, pois ele os agrupa em uma coleção. Mas o que acontece quando os dados já estão agrupados?"
   ]
  },
  {
   "cell_type": "code",
   "execution_count": 11,
   "metadata": {},
   "outputs": [
    {
     "name": "stdout",
     "output_type": "stream",
     "text": [
      "([1, 2, 3, 4, 5],)\n",
      "<class 'tuple'>\n"
     ]
    },
    {
     "ename": "TypeError",
     "evalue": "unsupported operand type(s) for +: 'int' and 'list'",
     "output_type": "error",
     "traceback": [
      "\u001b[1;31m---------------------------------------------------------------------------\u001b[0m",
      "\u001b[1;31mTypeError\u001b[0m                                 Traceback (most recent call last)",
      "\u001b[1;32mc:\\Users\\Larissa\\Documents\\Carol\\Lets Code\\curso-safra-letscode\\Notebooks\\04 - parâmetros de funções.ipynb Cell 11'\u001b[0m in \u001b[0;36m<cell line: 10>\u001b[1;34m()\u001b[0m\n\u001b[0;32m      <a href='vscode-notebook-cell:/c%3A/Users/Larissa/Documents/Carol/Lets%20Code/curso-safra-letscode/Notebooks/04%20-%20par%C3%A2metros%20de%20fun%C3%A7%C3%B5es.ipynb#ch0000010?line=6'>7</a>\u001b[0m \t\u001b[39mreturn\u001b[39;00m soma\n\u001b[0;32m      <a href='vscode-notebook-cell:/c%3A/Users/Larissa/Documents/Carol/Lets%20Code/curso-safra-letscode/Notebooks/04%20-%20par%C3%A2metros%20de%20fun%C3%A7%C3%B5es.ipynb#ch0000010?line=8'>9</a>\u001b[0m lista \u001b[39m=\u001b[39m [\u001b[39m1\u001b[39m, \u001b[39m2\u001b[39m, \u001b[39m3\u001b[39m, \u001b[39m4\u001b[39m, \u001b[39m5\u001b[39m]\n\u001b[1;32m---> <a href='vscode-notebook-cell:/c%3A/Users/Larissa/Documents/Carol/Lets%20Code/curso-safra-letscode/Notebooks/04%20-%20par%C3%A2metros%20de%20fun%C3%A7%C3%B5es.ipynb#ch0000010?line=9'>10</a>\u001b[0m s \u001b[39m=\u001b[39m somatorio(lista)\n\u001b[0;32m     <a href='vscode-notebook-cell:/c%3A/Users/Larissa/Documents/Carol/Lets%20Code/curso-safra-letscode/Notebooks/04%20-%20par%C3%A2metros%20de%20fun%C3%A7%C3%B5es.ipynb#ch0000010?line=10'>11</a>\u001b[0m \u001b[39mprint\u001b[39m(s)\n",
      "\u001b[1;32mc:\\Users\\Larissa\\Documents\\Carol\\Lets Code\\curso-safra-letscode\\Notebooks\\04 - parâmetros de funções.ipynb Cell 11'\u001b[0m in \u001b[0;36msomatorio\u001b[1;34m(*numeros)\u001b[0m\n\u001b[0;32m      <a href='vscode-notebook-cell:/c%3A/Users/Larissa/Documents/Carol/Lets%20Code/curso-safra-letscode/Notebooks/04%20-%20par%C3%A2metros%20de%20fun%C3%A7%C3%B5es.ipynb#ch0000010?line=3'>4</a>\u001b[0m soma \u001b[39m=\u001b[39m \u001b[39m0\u001b[39m\n\u001b[0;32m      <a href='vscode-notebook-cell:/c%3A/Users/Larissa/Documents/Carol/Lets%20Code/curso-safra-letscode/Notebooks/04%20-%20par%C3%A2metros%20de%20fun%C3%A7%C3%B5es.ipynb#ch0000010?line=4'>5</a>\u001b[0m \u001b[39mfor\u001b[39;00m n \u001b[39min\u001b[39;00m numeros:\n\u001b[1;32m----> <a href='vscode-notebook-cell:/c%3A/Users/Larissa/Documents/Carol/Lets%20Code/curso-safra-letscode/Notebooks/04%20-%20par%C3%A2metros%20de%20fun%C3%A7%C3%B5es.ipynb#ch0000010?line=5'>6</a>\u001b[0m \tsoma \u001b[39m=\u001b[39m soma \u001b[39m+\u001b[39;49m n\n\u001b[0;32m      <a href='vscode-notebook-cell:/c%3A/Users/Larissa/Documents/Carol/Lets%20Code/curso-safra-letscode/Notebooks/04%20-%20par%C3%A2metros%20de%20fun%C3%A7%C3%B5es.ipynb#ch0000010?line=6'>7</a>\u001b[0m \u001b[39mreturn\u001b[39;00m soma\n",
      "\u001b[1;31mTypeError\u001b[0m: unsupported operand type(s) for +: 'int' and 'list'"
     ]
    }
   ],
   "source": [
    "def somatorio(*numeros):\n",
    "\tprint (numeros)\n",
    "\tprint(type(numeros))\n",
    "\tsoma = 0\n",
    "\tfor n in numeros:\n",
    "\t\tsoma = soma + n\n",
    "\treturn soma\n",
    "\n",
    "lista = [1, 2, 3, 4, 5]\n",
    "s = somatorio(lista)\n",
    "print(s)"
   ]
  },
  {
   "cell_type": "markdown",
   "metadata": {},
   "source": [
    "Note que o programa dará erro, pois como os _print_ dentro da função ilustram, foi criada uma tupla, e na primeira posição da tupla foi armazenada a lista. Isso não funciona com a lógica que projetamos.\n",
    "\n",
    "Para casos assim, utilizaremos o operador **\\*** na chamada da função também. Na definição, o operador **\\*** indica que devemos agrupar itens avulsos em uma coleção. Na chamada, ele indica que uma coleção deve ser expandida em itens avulsos."
   ]
  },
  {
   "cell_type": "code",
   "execution_count": 14,
   "metadata": {},
   "outputs": [
    {
     "name": "stdout",
     "output_type": "stream",
     "text": [
      "*lista1: 1 2 3 4 5\n",
      "*lista2: 1 2 3 4 5\n",
      "(1, 2, 3, 4, 5)\n",
      "<class 'tuple'>\n",
      "15\n"
     ]
    }
   ],
   "source": [
    "def somatorio(*numeros):#Aqui o * funciona para agrupar os numeros como tuplas\n",
    "\tprint (numeros)\n",
    "\tprint(type(numeros))\n",
    "\tsoma = 0\n",
    "\tfor n in numeros:\n",
    "\t\tsoma = soma + n\n",
    "\treturn soma\n",
    "\n",
    "lista1 = [1, 2, 3, 4, 5]\n",
    "print(\"*lista1:\", *lista1)\n",
    "lista2 = (1, 2, 3 ,4 ,5)\n",
    "print(\"*lista2:\", *lista2)\n",
    "s = somatorio(*lista1) #Aqui o * funciona para separar os números\n",
    "print(s)"
   ]
  },
  {
   "cell_type": "markdown",
   "metadata": {},
   "source": [
    "No programa acima, a lista é expandida em 5 valores avulsos, e em seguida a função agrupa os 5 itens em uma tupla chamada \"numeros\". "
   ]
  },
  {
   "cell_type": "markdown",
   "metadata": {},
   "source": [
    "## Parâmetros opcionais\n",
    "Outra possibilidade são funções com parâmetros opcionais. Note que isso é diferente de termos quantidade variável de parâmetros. \n",
    "\n",
    "No caso da quantidade variável, normalmente são diversos parâmetros com a mesma utilidade (números a serem somados, valores a serem exibidos etc). \n",
    "\n",
    "Já os parâmetros opcionais são informações distintas que podem ou não ser passadas para a função. Como exemplo podemos citar o _csv.reader_ e o _csv.writer_ vistos anteriormente. Os parâmetros que passamos pelo nome (_delimiter_ e _lineterminator_) são opcionais: se você omiti-los, a função usará valores padrão.\n",
    "\n",
    "Já estudamos uma forma de parâmetros opcionais utilizando valores padrão. Mas para funções com uma **grande** quantidade de parâmetros opcionais, existe outra forma utilizando dicionários, apelidada como ```**kwargs```.\n",
    "\n",
    "### Criando **kwargs\n",
    "Para criar parâmetros opcionais, usaremos **\\*\\***, e os parâmetros passados serão agrupados em um dicionário: o nome do parâmetro será uma chave, e o valor será... O valor.\n",
    "\n",
    "O exemplo abaixo cadastra usuários em uma base de dado. Um usuário pode fornecer seu nome, seu CPF ou ambos.\n"
   ]
  },
  {
   "cell_type": "code",
   "execution_count": null,
   "metadata": {},
   "outputs": [],
   "source": [
    "def cadastro(**usuario):\n",
    "\tif not ('nome' in usuario) and not ('cpf') in usuario:\n",
    "\t\tprint('Nenhum dado encontrado!')\n",
    "\telse:\n",
    "\t\tarquivo = open('usuarios.txt', 'a')\n",
    "\t\tif 'nome' in usuario:\n",
    "\t\t\tarquivo.write(usuario['nome'] + '\\n')\n",
    "\t\tif 'cpf' in usuario:\n",
    "\t\t\tarquivo.write(str(usuario['cpf']) + '\\n')\n",
    "\t\tarquivo.write('-----\\n')\n",
    "\t\tarquivo.close()\n",
    "\t\tprint('Cadastro realizado com sucesso!')\n",
    "\n",
    "cadastro(nome = 'João', cpf = 123456789) # tem ambos\n",
    "cadastro(nome = 'José') # tem apenas nome\n",
    "cadastro(cpf = 987654321) # tem apenas cpf\n",
    "cadastro(rg = 192837465) # não tem nome nem cpf"
   ]
  },
  {
   "cell_type": "markdown",
   "metadata": {},
   "source": [
    "### Expandindo um dicionário\n",
    "Analogamente ao caso dos parâmetros múltiplos, é possível que o usuário da função já tenha os dados organizados em um dicionário. Neste caso, basta usar **\\*\\*** na chamada da função para expandir o dicionário em vários parâmetros opcionais."
   ]
  },
  {
   "cell_type": "code",
   "execution_count": 4,
   "metadata": {},
   "outputs": [
    {
     "name": "stdout",
     "output_type": "stream",
     "text": [
      "nome\n",
      "cpf\n",
      "Cadastro realizado com sucesso!\n"
     ]
    }
   ],
   "source": [
    "def cadastro(**usuario):\n",
    "\tif not ('nome' in usuario) and not ('cpf') in usuario:\n",
    "\t\tprint('Nenhum dado encontrado!')\n",
    "\telse:\n",
    "\t\tarquivo = open('usuarios.txt', 'a')\n",
    "\t\tif 'nome' in usuario:\n",
    "\t\t\tarquivo.write(usuario['nome'] + '\\n')\n",
    "\t\tif 'cpf' in usuario:\n",
    "\t\t\tarquivo.write(str(usuario['cpf']) + '\\n')\n",
    "\t\tarquivo.write('-----\\n')\n",
    "\t\tarquivo.close()\n",
    "\t\tprint('Cadastro realizado com sucesso!')\n",
    "\n",
    "maria = {'nome':'Maria', 'cpf':2468135790}\n",
    "cadastro(**maria) # Da na mesma de fazer cadastro(nome='Maria', cpf=2468135790)"
   ]
  },
  {
   "cell_type": "markdown",
   "metadata": {},
   "source": [
    "## Exercícios\n",
    "\n",
    "Faça uma função que recebe uma quantidade arbitrária de variáveis de qualquer tipo e retorna uma string contendo todas as suas representações separadas por espaço."
   ]
  },
  {
   "cell_type": "code",
   "execution_count": 1,
   "metadata": {},
   "outputs": [],
   "source": [
    "## Ordem dos argumentos\n",
    "# Posicionais, *args, *kwargs, Opcionais\n",
    "\n",
    "# Posicionais: argumentos que esperamos exemplo -->  open('arquivo.txt')\n",
    "# *args      : argumentos que podem vir aos montes --> print('oi' + 3*nome + 'e aí!!!!')\n",
    "# **kwargs   : argumentos que serão interpretados como dicionários --> my_function(fname = \"Tobias\", lname = \"Refsnes\")\n",
    "# Opcionais  : argumentos que caso não sejam passados já terão um valor definido --> ordenar(lista, reverso = False)"
   ]
  },
  {
   "cell_type": "code",
   "execution_count": 3,
   "metadata": {},
   "outputs": [
    {
     "name": "stdout",
     "output_type": "stream",
     "text": [
      "1 s 3 oi 1 l tchau\n"
     ]
    }
   ],
   "source": [
    "def retorna(*args):\n",
    "    lista=[]\n",
    "    for i in args:\n",
    "        if type(i) in [list, tuple]:\n",
    "            lista.append(retorna(*i))\n",
    "        else:    \n",
    "            lista.append(str(i))\n",
    "    return ' '.join(lista)\n",
    "\n",
    "\n",
    "print(retorna(1, 's', 3, 'oi', [1, 'l', ['tchau']]))"
   ]
  },
  {
   "cell_type": "markdown",
   "metadata": {},
   "source": [
    "Modifique a função anterior para incluir um parâmetro opcional indicando o caractere de separação entre as variáveis. Seu valor padrão será 1 espaço em branco. "
   ]
  },
  {
   "cell_type": "code",
   "execution_count": 16,
   "metadata": {},
   "outputs": [
    {
     "name": "stdout",
     "output_type": "stream",
     "text": [
      "1_%_s_%_3_%_oi_%_1_%_l_%_tchau\n"
     ]
    }
   ],
   "source": [
    "def retorna(*args, opc = ' '):\n",
    "    lista=[]\n",
    "    for i in args:\n",
    "        if type(i) in [list, tuple]:\n",
    "            lista.append(retorna(*i, opc = '_%_'))\n",
    "        else:    \n",
    "            lista.append(str(i))\n",
    "    return opc.join(lista)\n",
    "\n",
    "\n",
    "print(retorna(1, 's', 3, 'oi', [1, 'l', ['tchau']], opc = '_%_'))"
   ]
  },
  {
   "cell_type": "markdown",
   "metadata": {},
   "source": [
    "Faça sua própria função \"sorted\", que recebe uma coleção de elementos e retorna uma nova lista contendo os elementos ordenados. Ela deverá receber:\n",
    "\n",
    "* uma lista ou uma tupla (obrigatório).\n",
    "* um booleano indicando se deve ser ordem inversa ou não (opcional, com valor padrão).\n",
    "* uma função (sim, isso pode!) que será usada para comparar os valores da lista entre eles (opcional, com valor padrão null) - caso seja null, utilize os operadores \">\" ou \"<\" para fazer as comparações.\n",
    "\n",
    "Faça tratamento de exceção da maneira que julgar melhor para lidar com a possibilidade da lista de entrada conter elementos que não podem ser comparados entre si (como str e int, por exemplo).\n"
   ]
  },
  {
   "cell_type": "code",
   "execution_count": 24,
   "metadata": {},
   "outputs": [
    {
     "name": "stdout",
     "output_type": "stream",
     "text": [
      "[7, 6, 5, 4, 3, 2, 2, 1]\n",
      "[1, 2, 2, 3, 4, 5, 6, 7]\n"
     ]
    }
   ],
   "source": [
    "def new_sorted(ordenados, reverso = False, fun = 'null'):\n",
    "    if not reverso and fun == 'null':\n",
    "        nova_lista = []\n",
    "        while len(ordenados) > 0:\n",
    "            nova_lista.append(max(ordenados))\n",
    "            ordenados.remove(max(ordenados))\n",
    "    elif reverso and fun == 'null':\n",
    "        nova_lista = []\n",
    "        while len(ordenados) > 0:\n",
    "            nova_lista.append(min(ordenados))\n",
    "            ordenados.remove(min(ordenados))\n",
    "    return nova_lista\n",
    "\n",
    "\n",
    "\n",
    "\n",
    "\n",
    "\n",
    "lista_ordenada1 = new_sorted([1, 3, 4, 2, 5, 6, 7, 2])\n",
    "print(lista_ordenada1)\n",
    "\n",
    "lista_ordenada2 = new_sorted([1, 3, 4, 2, 5, 6, 7, 2], reverso = True)\n",
    "print(lista_ordenada2)"
   ]
  },
  {
   "cell_type": "markdown",
   "metadata": {},
   "source": [
    "Faça um programa com um menu que permita cadastrar novos usuários, buscar usuários já existentes, modificar um usuário existente e visualizar todos os usuários.\n",
    "\n",
    "Cada usuário deve ter, obrigatoriamente:\n",
    "\n",
    "* Nome\n",
    "* CPF (deve ser **único**)\n",
    "* e-mail (deve ser **único**)\n",
    "\n",
    "Opcionalmente, usuários podem ter:\n",
    "\n",
    "* Data de nascimento\n",
    "* Profissão\n",
    "* Escolaridade (a ser escolhida de uma lista: infantil, fundamental, médio, superior, pós)\n",
    "\n",
    "Para a busca, podemos passar um ou mais dos dados (ex: apenas nome, ou data de nascimento + profissão), e teremos um parâmetro opcional indicando se os resultados mostrarão usuários que bateram com pelo menos 1 dos parâmetros buscados (ex: nome igual, mas CPF diferente) ou apenas que bateram com todas as informações passadas.\n",
    "\n",
    "Estruture seu programa para utilizar funções com parâmetros opcionais.\n",
    "\n",
    "Desafio 1: faça toda a comunicação de erros entre funções e diferentes partes do programa via **exceções**.\n",
    "\n",
    "Desafio 2: adicione **persistência** ao seu programa em formato .json\n",
    "\n",
    "Desafio 3: **valide CPF, e-mail e data de nascimento** (apenas CPFs válidos, e-mail apenas com caracteres válidos, e 1 única arroba que contenha caracteres antes e depois, data de nascimento obrigatoriamente no formato aaaa-mm-dd e que não aceite dias inválidos, como 30 de fevereiro).\n",
    "\n",
    "Desafio 4: acrescente ao desafio 3 a verificação para 29/fev e ano bissexto."
   ]
  },
  {
   "cell_type": "code",
   "execution_count": 78,
   "metadata": {},
   "outputs": [
    {
     "name": "stdout",
     "output_type": "stream",
     "text": [
      "Os parâmetros obrigatórios não foram passados\n",
      "Já existe o email. Tratar erro\n",
      "\n",
      "\n",
      "USUÁRIOS COMPATÍVEIS COM A BUSCA:\n",
      "Não há dados para serem mostrados aqui\n"
     ]
    }
   ],
   "source": [
    "def cadastrar(dados, **kwargs):\n",
    "    dicionario = {}\n",
    "    if not 'nome' in kwargs or not 'cpf' in kwargs or not 'email' in kwargs:\n",
    "        print('Os parâmetros obrigatórios não foram passados')\n",
    "    else:\n",
    "        dicionario['nome'] = kwargs['nome']\n",
    "        if dados:\n",
    "            for i in dados:\n",
    "                if kwargs['cpf'] == i['cpf']:\n",
    "                    print('Já existe o cpf. Tratar erro')\n",
    "                    return dados\n",
    "                else:\n",
    "                    dicionario['cpf'] = kwargs['cpf']\n",
    "                if kwargs['email'] == i['email']:\n",
    "                    print('Já existe o email. Tratar erro')\n",
    "                    return dados\n",
    "                else:\n",
    "                    dicionario['email'] = kwargs['email']\n",
    "            if 'data' in kwargs:\n",
    "                dicionario['data'] = kwargs['data']\n",
    "            if 'profissao' in kwargs:\n",
    "                dicionario['profissao'] = kwargs['profissao']\n",
    "            if 'escolaridade' in kwargs:\n",
    "                dicionario['escolaridade'] = kwargs['escolaridade']\n",
    "        else:\n",
    "            dicionario['cpf'] = kwargs['cpf']\n",
    "            dicionario['email'] = kwargs['email']\n",
    "    if dicionario:\n",
    "        dados.append(dicionario)\n",
    "    return dados\n",
    "\n",
    "    \n",
    "\n",
    "def buscar(dados, todos = True, **kwargs):\n",
    "    if dados:\n",
    "        compativeis = []\n",
    "        if todos:\n",
    "            for chave in kwargs:\n",
    "                for j in range(0, len(dados)):\n",
    "                    if dados[j][chave] == kwargs[chave] and dados[j] not in compativeis:\n",
    "                        compativeis.append(dados[j])\n",
    "            print('USUÁRIOS COMPATÍVEIS COM A BUSCA:')\n",
    "            visualizar(compativeis)\n",
    "        else:\n",
    "            for chave in kwargs:\n",
    "                for j in range(0, len(dados)):\n",
    "                    if dados[j][chave] == kwargs[chave]:\n",
    "                            compativeis.append(dados[j])\n",
    "                    if compativeis:\n",
    "                        for check_chave in kwargs:\n",
    "                            if dados[j] in compativeis and dados[j][check_chave] != kwargs[check_chave]:\n",
    "                                compativeis.remove(dados[j])\n",
    "            print('\\n\\nUSUÁRIOS COMPATÍVEIS COM A BUSCA:')\n",
    "            visualizar(compativeis)\n",
    "    else:\n",
    "        print('Não existem dados registrados')\n",
    "\n",
    "def modificar(*args):\n",
    "    ...\n",
    "\n",
    "def visualizar(dados):\n",
    "    if dados:\n",
    "        for i, j in enumerate(dados, start=1):\n",
    "            for chave, valor in j.items():\n",
    "                print(f\"Usuário número {i}\\t{chave}:\\t{valor}\")\n",
    "            print()\n",
    "    else:\n",
    "        print('Não há dados para serem mostrados aqui')\n",
    "\n",
    "\n",
    "def main():\n",
    "    dados = []\n",
    "    maria = {'nome':'Maria', 'cpf':2468135790, 'email':'email@da.maria'}\n",
    "    dados = cadastrar(dados, **maria)\n",
    "    dados = cadastrar(dados, nome='Carol', cpf='12654', email='carol@email.com')\n",
    "    dados = cadastrar(dados, nome='Jean', cpf='000001', email='jean@email.com', data='12/06/1998')\n",
    "    dados = cadastrar(dados, cpf='000002', data='10/06/2000')\n",
    "    dados = cadastrar(dados, nome='Carol', cpf='126543', email='carolina@email.com')\n",
    "    dados = cadastrar(dados, nome='Carol2', cpf='126543', email='carol@email.com')\n",
    "    # visualizar(dados)\n",
    "    buscar(dados, nome = 'Carol', email = 'jean@email.com', todos = False)\n",
    "    # print(dados)\n",
    "\n",
    "main()"
   ]
  },
  {
   "cell_type": "code",
   "execution_count": 13,
   "metadata": {},
   "outputs": [],
   "source": [
    "dados = {\n",
    "    \"Carol\" : {\n",
    "        'nome' : 'Carol',\n",
    "        \"cpf\" : 123632,\n",
    "        'email' : 'teste'\n",
    "    },\n",
    "    \"Jean\" : {\n",
    "        'nome' : 'Jean',\n",
    "        'cpf' : 9876543,\n",
    "        'email' : 'hgfds'\n",
    "    }\n",
    "\n",
    "}\n",
    "\n",
    "\n",
    "\n",
    "dados1 = [\n",
    "    {\n",
    "        'nome' : 'Carol',\n",
    "        \"cpf\" : 123632,\n",
    "        'email' : 'teste'\n",
    "    },\n",
    "    {\n",
    "        'nome' : 'Jean',\n",
    "        'cpf' : 9876543,\n",
    "        'email' : 'hgfds'\n",
    "    }\n",
    "\n",
    "]"
   ]
  },
  {
   "cell_type": "code",
   "execution_count": 30,
   "metadata": {},
   "outputs": [
    {
     "name": "stdout",
     "output_type": "stream",
     "text": [
      "[{'nome': 'Carol', 'cpf': 123632, 'email': 'teste'}, {'nome': 'Jean', 'cpf': 9876543, 'email': 'hgfds'}]\n",
      "Carol\n",
      "Jean\n"
     ]
    }
   ],
   "source": [
    "#print(dados['Jean']['cpf'])\n",
    "print(dados1)\n",
    "\n",
    "if 'Carol' in dados1:\n",
    "    print('oie')\n",
    "\n",
    "for i in dados1:\n",
    "    print(i['nome'])\n"
   ]
  },
  {
   "cell_type": "code",
   "execution_count": 75,
   "metadata": {},
   "outputs": [
    {
     "name": "stdout",
     "output_type": "stream",
     "text": [
      "nada\n"
     ]
    }
   ],
   "source": [
    "oi = []\n",
    "if oi:\n",
    "    print('oi')\n",
    "else:\n",
    "    print('nada')"
   ]
  }
 ],
 "metadata": {
  "interpreter": {
   "hash": "d2a590627affa2ada0e82db8d3e688699ba29127dbb2ac1a131b310bb4840d5e"
  },
  "kernelspec": {
   "display_name": "Python 3.10.5 64-bit (windows store)",
   "language": "python",
   "name": "python3"
  },
  "language_info": {
   "codemirror_mode": {
    "name": "ipython",
    "version": 3
   },
   "file_extension": ".py",
   "mimetype": "text/x-python",
   "name": "python",
   "nbconvert_exporter": "python",
   "pygments_lexer": "ipython3",
   "version": "3.10.5"
  },
  "orig_nbformat": 4
 },
 "nbformat": 4,
 "nbformat_minor": 2
}
